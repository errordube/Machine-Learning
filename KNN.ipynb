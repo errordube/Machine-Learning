{
 "cells": [
  {
   "cell_type": "code",
   "execution_count": null,
   "metadata": {},
   "outputs": [],
   "source": [
    "from typing import Counter\n",
    "import numpy as np\n",
    "from collections import Counter\n",
    "\n",
    "def euclidean_distance(x1,x2):\n",
    "    distance = np.sqrt(np.sum((x1-x2)**2))\n",
    "    return distance\n",
    "\n",
    "\n",
    "class KNN:\n",
    "    def __init__(self, k=3):\n",
    "        self.k = k\n",
    "    \n",
    "    def fit(self,X,y):\n",
    "        self.X_train = X\n",
    "        self.y_train = y\n",
    "\n",
    "    \n",
    "    def predict(self,y):\n",
    "        predicitons = [self._predict(x) for x in X]\n",
    "        return predicitons\n",
    "    \n",
    "    def _predict(self,x):\n",
    "        #complete the distance\n",
    "        distances = [euclidean_distance(x,x_train) for x_train in self.X_train]\n",
    "\n",
    "        #get the closest k\n",
    "        k_indices = np.argsort(distances)[:self.k]\n",
    "        k_nearest_labels = [self.y_train[i] for i in k_indices ]\n",
    "\n",
    "\n",
    "        #mejority votes\n",
    "        most_common = Counter(k_nearest_labels).most_common()\n",
    "        return most_common"
   ]
  }
 ],
 "metadata": {
  "language_info": {
   "name": "python"
  }
 },
 "nbformat": 4,
 "nbformat_minor": 2
}
